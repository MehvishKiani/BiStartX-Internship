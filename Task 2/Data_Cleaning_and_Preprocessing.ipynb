{
  "nbformat": 4,
  "nbformat_minor": 0,
  "metadata": {
    "colab": {
      "provenance": []
    },
    "kernelspec": {
      "name": "python3",
      "display_name": "Python 3"
    },
    "language_info": {
      "name": "python"
    }
  },
  "cells": [
    {
      "cell_type": "code",
      "execution_count": 23,
      "metadata": {
        "id": "PgOTKsqGKDvh"
      },
      "outputs": [],
      "source": [
        "import pandas as pd\n",
        "import numpy as np"
      ]
    },
    {
      "cell_type": "code",
      "source": [
        "# Load the Data\n",
        "df = pd.read_csv('/content/WHO-COVID-19-global-daily-data.csv')"
      ],
      "metadata": {
        "id": "m_x_TpkBKK40"
      },
      "execution_count": 24,
      "outputs": []
    },
    {
      "cell_type": "code",
      "source": [
        "# Check for Missing Values\n",
        "print(df.head())\n",
        "print(df.info())\n",
        "print(df.describe())\n",
        "print(df.isnull().sum())"
      ],
      "metadata": {
        "colab": {
          "base_uri": "https://localhost:8080/"
        },
        "id": "XMaMqHbNMQag",
        "outputId": "136ea427-f54c-473a-ac5c-a48fb5a03718"
      },
      "execution_count": 25,
      "outputs": [
        {
          "output_type": "stream",
          "name": "stdout",
          "text": [
            "  Date_reported Country_code         Country WHO_region  New_cases  \\\n",
            "0    2020-01-04           AF     Afghanistan        EMR        NaN   \n",
            "1    2020-01-04           AL         Albania        EUR        NaN   \n",
            "2    2020-01-04           DZ         Algeria        AFR        NaN   \n",
            "3    2020-01-04           AS  American Samoa        WPR        0.0   \n",
            "4    2020-01-04           AD         Andorra        EUR        NaN   \n",
            "\n",
            "   Cumulative_cases  New_deaths  Cumulative_deaths  \n",
            "0                 0         NaN                  0  \n",
            "1                 0         NaN                  0  \n",
            "2                 0         NaN                  0  \n",
            "3                 0         0.0                  0  \n",
            "4                 0         NaN                  0  \n",
            "<class 'pandas.core.frame.DataFrame'>\n",
            "RangeIndex: 450720 entries, 0 to 450719\n",
            "Data columns (total 8 columns):\n",
            " #   Column             Non-Null Count   Dtype  \n",
            "---  ------             --------------   -----  \n",
            " 0   Date_reported      450720 non-null  object \n",
            " 1   Country_code       448842 non-null  object \n",
            " 2   Country            450720 non-null  object \n",
            " 3   WHO_region         450720 non-null  object \n",
            " 4   New_cases          207873 non-null  float64\n",
            " 5   Cumulative_cases   450720 non-null  int64  \n",
            " 6   New_deaths         152814 non-null  float64\n",
            " 7   Cumulative_deaths  450720 non-null  int64  \n",
            "dtypes: float64(2), int64(2), object(4)\n",
            "memory usage: 27.5+ MB\n",
            "None\n",
            "          New_cases  Cumulative_cases     New_deaths  Cumulative_deaths\n",
            "count  2.078730e+05      4.507200e+05  152814.000000       4.507200e+05\n",
            "mean   3.740357e+03      1.941942e+06      46.401351       2.099982e+04\n",
            "std    4.884882e+04      8.235867e+06     243.208622       8.480176e+04\n",
            "min   -6.507900e+04      0.000000e+00   -3520.000000       0.000000e+00\n",
            "25%    3.000000e+00      5.635000e+03       0.000000       3.500000e+01\n",
            "50%    6.200000e+01      5.228700e+04       2.000000       6.700000e+02\n",
            "75%    6.910000e+02      6.155348e+05      15.000000       7.574000e+03\n",
            "max    6.966046e+06      1.034368e+08   44047.000000       1.218325e+06\n",
            "Date_reported             0\n",
            "Country_code           1878\n",
            "Country                   0\n",
            "WHO_region                0\n",
            "New_cases            242847\n",
            "Cumulative_cases          0\n",
            "New_deaths           297906\n",
            "Cumulative_deaths         0\n",
            "dtype: int64\n"
          ]
        }
      ]
    },
    {
      "cell_type": "code",
      "source": [
        "# Check for Missing Values\n",
        "print(df.isnull().sum())"
      ],
      "metadata": {
        "colab": {
          "base_uri": "https://localhost:8080/"
        },
        "id": "RFpvEDUnKS43",
        "outputId": "545f6a2b-62e8-4ac1-a107-c2a8d41b5f42"
      },
      "execution_count": 6,
      "outputs": [
        {
          "output_type": "stream",
          "name": "stdout",
          "text": [
            "Date_reported        0\n",
            "Country_code         0\n",
            "Country              0\n",
            "WHO_region           0\n",
            "New_cases            0\n",
            "Cumulative_cases     0\n",
            "New_deaths           0\n",
            "Cumulative_deaths    0\n",
            "dtype: int64\n"
          ]
        }
      ]
    },
    {
      "cell_type": "code",
      "source": [
        "df.dropna(axis=0, inplace=True)  # Drop rows"
      ],
      "metadata": {
        "id": "NtWmsCv4KVYV"
      },
      "execution_count": 7,
      "outputs": []
    },
    {
      "cell_type": "code",
      "source": [
        "# Remove Duplicates\n",
        "print(df.duplicated().sum())\n",
        "df.drop_duplicates(inplace=True)"
      ],
      "metadata": {
        "colab": {
          "base_uri": "https://localhost:8080/"
        },
        "id": "AVYiEh6JKarj",
        "outputId": "7d73a8a4-e147-4c2b-a6bb-316511e6960c"
      },
      "execution_count": 28,
      "outputs": [
        {
          "output_type": "stream",
          "name": "stdout",
          "text": [
            "0\n"
          ]
        }
      ]
    },
    {
      "cell_type": "code",
      "source": [
        "# Standardize categorical values\n",
        "df.columns = df.columns.str.strip().str.lower()\n",
        "print(df.columns)"
      ],
      "metadata": {
        "colab": {
          "base_uri": "https://localhost:8080/"
        },
        "id": "XCV3W46zKcid",
        "outputId": "b6baf998-db4a-4e59-915e-360aed00515f"
      },
      "execution_count": 29,
      "outputs": [
        {
          "output_type": "stream",
          "name": "stdout",
          "text": [
            "Index(['date_reported', 'country_code', 'country', 'who_region', 'new_cases',\n",
            "       'cumulative_cases', 'new_deaths', 'cumulative_deaths'],\n",
            "      dtype='object')\n"
          ]
        }
      ]
    },
    {
      "cell_type": "code",
      "source": [
        "# Handle Inconsistencies\n",
        "df['date_reported'] = pd.to_datetime(df['date_reported'], errors='coerce')\n"
      ],
      "metadata": {
        "id": "cqVaXxSuK3qa"
      },
      "execution_count": 30,
      "outputs": []
    },
    {
      "cell_type": "code",
      "source": [
        "df['country'] = df['country'].str.strip().str.title()"
      ],
      "metadata": {
        "id": "MLf2EQE0LbAt"
      },
      "execution_count": 31,
      "outputs": []
    },
    {
      "cell_type": "code",
      "source": [
        "# Fix Outliers (if needed)\n",
        "Q1 = df['new_cases'].quantile(0.25)\n",
        "Q3 = df['new_cases'].quantile(0.75)\n",
        "IQR = Q3 - Q1\n",
        "df = df[(df['new_cases'] >= Q1 - 1.5 * IQR) & (df['new_cases'] <= Q3 + 1.5 * IQR)]"
      ],
      "metadata": {
        "id": "zDHshxUbLdwz"
      },
      "execution_count": 32,
      "outputs": []
    },
    {
      "cell_type": "code",
      "source": [
        "# Save Cleaned Data\n",
        "df.to_csv('/content/cleaned_data.csv', index=False)"
      ],
      "metadata": {
        "id": "hHDoAGU2LkJW"
      },
      "execution_count": 33,
      "outputs": []
    }
  ]
}